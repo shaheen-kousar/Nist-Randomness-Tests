{
 "cells": [
  {
   "cell_type": "code",
   "execution_count": null,
   "id": "09e0dad1",
   "metadata": {},
   "outputs": [],
   "source": [
    "import numpy as np\n",
    "import math\n",
    "from scipy.stats import norm  \n",
    "\n",
    "def cumulative_sums(n, epsilon):\n",
    "    \"\"\"\n",
    "    Cumulative Sums (Cusum) Test for randomness in a binary sequence.\n",
    "\n",
    "    Parameters:\n",
    "    n        : Sequence length\n",
    "    epsilon  : Binary sequence (list of 0s and 1s)\n",
    "\n",
    "    Returns:\n",
    "    p_values : (p_value_forward, p_value_reverse)\n",
    "    \"\"\"\n",
    "    S = 0\n",
    "    sup = 0\n",
    "    inf = 0\n",
    "\n",
    "    for k in range(n):\n",
    "        S += 1 if epsilon[k] else -1\n",
    "        if S > sup:\n",
    "            sup += 1\n",
    "        if S < inf:\n",
    "            inf -= 1\n",
    "    z = max(sup, -inf)\n",
    "    zrev = max(sup - S, S - inf)\n",
    "\n",
    "    def compute_p_value(z_val):\n",
    "        sum1 = sum(\n",
    "            norm.cdf((4 * k + 1) * z_val / math.sqrt(n)) -\n",
    "            norm.cdf((4 * k - 1) * z_val / math.sqrt(n))\n",
    "            for k in range((-n // z_val + 1) // 4, (n // z_val - 1) // 4 + 1)\n",
    "        )\n",
    "        sum2 = sum(\n",
    "            norm.cdf((4 * k + 3) * z_val / math.sqrt(n)) -\n",
    "            norm.cdf((4 * k + 1) * z_val / math.sqrt(n))\n",
    "            for k in range((-n // z_val - 3) // 4, (n // z_val - 1) // 4 + 1)\n",
    "        )\n",
    "        return 1.0 - sum1 + sum2\n",
    "\n",
    "    p_value_forward = compute_p_value(z)\n",
    "    p_value_reverse = compute_p_value(zrev)\n",
    "\n",
    "    return p_value_forward, p_value_reverse, z, zrev"
   ]
  }
 ],
 "metadata": {
  "kernelspec": {
   "display_name": "Python 3 (ipykernel)",
   "language": "python",
   "name": "python3"
  },
  "language_info": {
   "codemirror_mode": {
    "name": "ipython",
    "version": 3
   },
   "file_extension": ".py",
   "mimetype": "text/x-python",
   "name": "python",
   "nbconvert_exporter": "python",
   "pygments_lexer": "ipython3",
   "version": "3.10.9"
  }
 },
 "nbformat": 4,
 "nbformat_minor": 5
}
