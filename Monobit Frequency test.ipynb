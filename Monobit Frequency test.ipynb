{
 "cells": [
  {
   "cell_type": "code",
   "execution_count": null,
   "id": "3b7a4d7c",
   "metadata": {},
   "outputs": [],
   "source": [
    "import numpy as np\n",
    "import scipy.special as sp\n",
    "\n",
    "def frequency_test(epsilon, alpha=0.01):\n",
    "    \"\"\"\n",
    "    Perform the Frequency (Monobit) Test for randomness.\n",
    "\n",
    "    Parameters:\n",
    "    - epsilon: list or numpy array of binary values (0s and 1s)\n",
    "    - alpha: significance level (default: 0.01)\n",
    "\n",
    "    Returns:\n",
    "    - p_value: statistical probability of randomness\n",
    "    - result: \"SUCCESS\" if p_value >= alpha, otherwise \"FAILURE\"\n",
    "    \"\"\"\n",
    "\n",
    "    n = len(epsilon)\n",
    "    sqrt2 = np.sqrt(2)\n",
    "\n",
    "    # Convert binary sequence {0,1} to {-1,1}\n",
    "    transformed_sequence = 2 * np.array(epsilon) - 1\n",
    "\n",
    "    # Compute the test statistic\n",
    "    sum_value = np.sum(transformed_sequence)\n",
    "    s_obs = np.abs(sum_value) / np.sqrt(n)\n",
    "    f = s_obs / sqrt2\n",
    "    p_value = sp.erfc(f)\n",
    "\n",
    "    # Print results\n",
    "    print(\"\\t\\t\\t      FREQUENCY TEST\")\n",
    "    print(\"\\t\\t---------------------------------------------\")\n",
    "    print(\"\\t\\tCOMPUTATIONAL INFORMATION:\")\n",
    "    print(\"\\t\\t---------------------------------------------\")\n",
    "    print(f\"\\t\\t(a) The nth partial sum = {sum_value}\")\n",
    "    print(f\"\\t\\t(b) S_n/n               = {sum_value / n}\")\n",
    "    print(\"\\t\\t---------------------------------------------\")\n",
    "    print(f\"{'FAILURE' if p_value < alpha else 'SUCCESS'}\\t\\tp_value = {p_value}\\n\")\n",
    "\n",
    "    return p_value, \"SUCCESS\" if p_value >= alpha else \"FAILURE\"\n"
   ]
  }
 ],
 "metadata": {
  "kernelspec": {
   "display_name": "Python 3 (ipykernel)",
   "language": "python",
   "name": "python3"
  },
  "language_info": {
   "codemirror_mode": {
    "name": "ipython",
    "version": 3
   },
   "file_extension": ".py",
   "mimetype": "text/x-python",
   "name": "python",
   "nbconvert_exporter": "python",
   "pygments_lexer": "ipython3",
   "version": "3.10.9"
  }
 },
 "nbformat": 4,
 "nbformat_minor": 5
}
