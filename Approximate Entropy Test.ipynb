{
 "cells": [
  {
   "cell_type": "code",
   "execution_count": null,
   "id": "4a233166",
   "metadata": {},
   "outputs": [],
   "source": [
    "import numpy as np\n",
    "import math\n",
    "from scipy.special import gammaincc,gammainc  \n",
    "def approximate_entropy(m, n, epsilon):\n",
    "    \"\"\"\n",
    "    Approximate Entropy (ApEn) Test for randomness of a binary sequence.\n",
    "\n",
    "    Parameters:\n",
    "    m        : Block length\n",
    "    n        : Sequence length\n",
    "    epsilon  : Binary sequence (list of 0s and 1s)\n",
    "\n",
    "    Returns:\n",
    "    p_value  : p-value of the test\n",
    "    \"\"\"\n",
    "    ApEn = [0.0, 0.0]\n",
    "\n",
    "    for r, blockSize in enumerate([m, m+1]):\n",
    "        if blockSize == 0:\n",
    "            ApEn[r] = 0.0\n",
    "            continue\n",
    "\n",
    "        numOfBlocks = float(n)\n",
    "        powLen = int(2 ** (blockSize + 1)) - 1\n",
    "        P = np.zeros(powLen, dtype=int)  # Initialize frequency array\n",
    "\n",
    "        # Compute Frequency of each block\n",
    "        for i in range(n):\n",
    "            k = 1\n",
    "            for j in range(blockSize):\n",
    "                k <<= 1\n",
    "                if epsilon[(i + j) % n] == 1:\n",
    "                    k += 1\n",
    "            P[k - 1] += 1  # Update frequency count\n",
    "\n",
    "        # Compute entropy sum\n",
    "        sum_entropy = 0.0\n",
    "        index = int(2 ** blockSize) - 1\n",
    "        for i in range(int(2 ** blockSize)):\n",
    "            if P[index] > 0:\n",
    "                sum_entropy += P[index] * math.log(P[index] / numOfBlocks)\n",
    "            index += 1\n",
    "\n",
    "        ApEn[r] = sum_entropy / numOfBlocks\n",
    "\n",
    "    # Compute ApEn difference and Chi-squared value\n",
    "    apen = ApEn[0] - ApEn[1]\n",
    "    chi_squared = 2.0 * n * (math.log(2) - apen)\n",
    "    p_value = gammaincc(2 ** (m - 1), chi_squared / 2.0)  #\n",
    "    return p_value, chi_squared, ApEn[0], ApEn[1], apen\n"
   ]
  }
 ],
 "metadata": {
  "kernelspec": {
   "display_name": "Python 3 (ipykernel)",
   "language": "python",
   "name": "python3"
  },
  "language_info": {
   "codemirror_mode": {
    "name": "ipython",
    "version": 3
   },
   "file_extension": ".py",
   "mimetype": "text/x-python",
   "name": "python",
   "nbconvert_exporter": "python",
   "pygments_lexer": "ipython3",
   "version": "3.10.9"
  }
 },
 "nbformat": 4,
 "nbformat_minor": 5
}
