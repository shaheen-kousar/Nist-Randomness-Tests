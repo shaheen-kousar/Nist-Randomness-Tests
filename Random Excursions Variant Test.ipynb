{
 "cells": [
  {
   "cell_type": "code",
   "execution_count": null,
   "id": "681c0d77",
   "metadata": {},
   "outputs": [],
   "source": [
    "import numpy as np\n",
    "import math\n",
    "from scipy.special import erfc  \n",
    "def random_excursions_variant(n, epsilon):\n",
    "    \"\"\"\n",
    "    Random Excursions Variant Test for randomness in a binary sequence.\n",
    "\n",
    "    Parameters:\n",
    "    n        : Sequence length\n",
    "    epsilon  : Binary sequence (list of 0s and 1s)\n",
    "\n",
    "    Returns:\n",
    "    p_values : List of p-values for each state x (-9 to 9, excluding 0)\n",
    "    \"\"\"\n",
    "    stateX = [-9, -8, -7, -6, -5, -4, -3, -2, -1, 1, 2, 3, 4, 5, 6, 7, 8, 9]\n",
    "    S_k = np.zeros(n, dtype=int)\n",
    "\n",
    "    # Compute the cumulative sum S_k\n",
    "    S_k[0] = 2 * int(epsilon[0]) - 1\n",
    "    J = 0  # Number of cycles\n",
    "\n",
    "    for i in range(1, n):\n",
    "        S_k[i] = S_k[i - 1] + 2 * int(epsilon[i]) - 1\n",
    "        if S_k[i] == 0:\n",
    "            J += 1\n",
    "\n",
    "    if S_k[n - 1] != 0:\n",
    "        J += 1\n",
    "    p_values = []\n",
    "    for x in stateX:\n",
    "        count = np.count_nonzero(S_k == x)  # Count occurrences of state x\n",
    "        p_value = erfc(abs(count - J) / (math.sqrt(2.0 * J * (4.0 * abs(x) - 2))))\n",
    "\n",
    "        p_values.append(p_value)\n",
    "\n",
    "    return p_values\n"
   ]
  }
 ],
 "metadata": {
  "kernelspec": {
   "display_name": "Python 3 (ipykernel)",
   "language": "python",
   "name": "python3"
  },
  "language_info": {
   "codemirror_mode": {
    "name": "ipython",
    "version": 3
   },
   "file_extension": ".py",
   "mimetype": "text/x-python",
   "name": "python",
   "nbconvert_exporter": "python",
   "pygments_lexer": "ipython3",
   "version": "3.10.9"
  }
 },
 "nbformat": 4,
 "nbformat_minor": 5
}
