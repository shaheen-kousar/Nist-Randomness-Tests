{
 "cells": [
  {
   "cell_type": "code",
   "execution_count": null,
   "id": "c9798c2e",
   "metadata": {},
   "outputs": [],
   "source": [
    "import numpy as np\n",
    "import scipy.special as sp\n",
    "\n",
    "def block_frequency_test(epsilon, M, alpha=0.01):\n",
    "    \"\"\"\n",
    "    Perform the Block Frequency Test for randomness.\n",
    "\n",
    "    Parameters:\n",
    "    - epsilon: list or numpy array of binary values (0s and 1s)\n",
    "    - M: block length\n",
    "    - alpha: significance level (default: 0.01)\n",
    "\n",
    "    Returns:\n",
    "    - p_value: statistical probability of randomness\n",
    "    - result: \"SUCCESS\" if p_value >= alpha, otherwise \"FAILURE\"\n",
    "    \"\"\"\n",
    "\n",
    "    n = len(epsilon)\n",
    "    N = n // M  # Number of blocks\n",
    "    sum_val = 0.0\n",
    "\n",
    "    for i in range(N):\n",
    "        block = epsilon[i * M: (i + 1) * M]\n",
    "        block_sum = np.sum(block)\n",
    "        pi = block_sum / M\n",
    "        v = pi - 0.5\n",
    "        sum_val += v * v\n",
    "\n",
    "    chi_squared = 4.0 * M * sum_val\n",
    "    p_value = sp.gammaincc(N / 2.0, chi_squared / 2.0)  # Equivalent to cephes_igamc()\n",
    "\n",
    "    # Print results\n",
    "    print(\"\\t\\t\\tBLOCK FREQUENCY TEST\")\n",
    "    print(\"\\t\\t---------------------------------------------\")\n",
    "    print(\"\\t\\tCOMPUTATIONAL INFORMATION:\")\n",
    "    print(\"\\t\\t---------------------------------------------\")\n",
    "    print(f\"\\t\\t(a) Chi^2           = {chi_squared}\")\n",
    "    print(f\"\\t\\t(b) # of substrings = {N}\")\n",
    "    print(f\"\\t\\t(c) block length    = {M}\")\n",
    "    print(f\"\\t\\t(d) Note: {n % M} bits were discarded.\")\n",
    "    print(\"\\t\\t---------------------------------------------\")\n",
    "    print(f\"{'FAILURE' if p_value < alpha else 'SUCCESS'}\\t\\tp_value = {p_value}\\n\")\n",
    "\n",
    "    return p_value, \"SUCCESS\" if p_value >= alpha else \"FAILURE\"\n",
    "\n"
   ]
  }
 ],
 "metadata": {
  "kernelspec": {
   "display_name": "Python 3 (ipykernel)",
   "language": "python",
   "name": "python3"
  },
  "language_info": {
   "codemirror_mode": {
    "name": "ipython",
    "version": 3
   },
   "file_extension": ".py",
   "mimetype": "text/x-python",
   "name": "python",
   "nbconvert_exporter": "python",
   "pygments_lexer": "ipython3",
   "version": "3.10.9"
  }
 },
 "nbformat": 4,
 "nbformat_minor": 5
}
