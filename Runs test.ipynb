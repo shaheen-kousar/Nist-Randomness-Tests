{
 "cells": [
  {
   "cell_type": "code",
   "execution_count": null,
   "id": "946c093f",
   "metadata": {},
   "outputs": [],
   "source": [
    "import numpy as np\n",
    "import scipy.special as sp\n",
    "\n",
    "def runs_test(epsilon, alpha=0.01):\n",
    "    \"\"\"\n",
    "    Perform the Runs Test for randomness.\n",
    "\n",
    "    Parameters:\n",
    "    - epsilon: list or numpy array of binary values (0s and 1s)\n",
    "    - alpha: significance level (default: 0.01)\n",
    "\n",
    "    Returns:\n",
    "    - p_value: statistical probability of randomness\n",
    "    - result: \"SUCCESS\" if p_value >= alpha, otherwise \"FAILURE\"\n",
    "    \"\"\"\n",
    "\n",
    "    n = len(epsilon)\n",
    "    S = np.sum(epsilon)  # Count of 1s\n",
    "    pi = S / n  # Proportion of 1s\n",
    "\n",
    "    # Check Pi estimator criteria\n",
    "    if abs(pi - 0.5) > (2.0 / np.sqrt(n)):\n",
    "        print(\"\\t\\t\\t\\tRUNS TEST\")\n",
    "        print(\"\\t\\t------------------------------------------\")\n",
    "        print(f\"\\t\\tPI ESTIMATOR CRITERIA NOT MET! PI = {pi}\")\n",
    "        return 0.0, \"FAILURE\"\n",
    "\n",
    "    # Compute number of runs V\n",
    "    V = 1 + np.sum(epsilon[1:] != epsilon[:-1])  # Count changes between 0 and 1\n",
    "\n",
    "    # Compute test statistic\n",
    "    erfc_arg = abs(V - 2.0 * n * pi * (1 - pi)) / (2.0 * pi * (1 - pi) * np.sqrt(2 * n))\n",
    "    p_value = sp.erfc(erfc_arg)\n",
    "\n",
    "    # Print results\n",
    "    print(\"\\t\\t\\t\\tRUNS TEST\")\n",
    "    print(\"\\t\\t------------------------------------------\")\n",
    "    print(\"\\t\\tCOMPUTATIONAL INFORMATION:\")\n",
    "    print(\"\\t\\t------------------------------------------\")\n",
    "    print(f\"\\t\\t(a) Pi = {pi}\")\n",
    "    print(f\"\\t\\t(b) V_n_obs (Total # of runs) = {V}\")\n",
    "    print(\"\\t\\t(c) V_n_obs - 2 n pi (1-pi)\")\n",
    "    print(f\"\\t\\t ----------------------- = {erfc_arg}\")\n",
    "    print(\"\\t\\t 2 sqrt(2n) pi (1-pi)\")\n",
    "    print(\"\\t\\t------------------------------------------\")\n",
    "\n",
    "    # Validate p_value\n",
    "    if p_value < 0 or p_value > 1:\n",
    "        print(\"WARNING: P_VALUE IS OUT OF RANGE.\")\n",
    "\n",
    "    print(f\"{'FAILURE' if p_value < alpha else 'SUCCESS'}\\t\\tp_value = {p_value}\\n\")\n",
    "\n",
    "    return p_value, \"SUCCESS\" if p_value >= alpha else \"FAILURE\""
   ]
  }
 ],
 "metadata": {
  "kernelspec": {
   "display_name": "Python 3 (ipykernel)",
   "language": "python",
   "name": "python3"
  },
  "language_info": {
   "codemirror_mode": {
    "name": "ipython",
    "version": 3
   },
   "file_extension": ".py",
   "mimetype": "text/x-python",
   "name": "python",
   "nbconvert_exporter": "python",
   "pygments_lexer": "ipython3",
   "version": "3.10.9"
  }
 },
 "nbformat": 4,
 "nbformat_minor": 5
}
